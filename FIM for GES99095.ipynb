{
  "cells": [
    {
      "cell_type": "code",
      "source": [
        "import matplotlib.pyplot as plt\n",
        "from sklearn.metrics import accuracy_score,confusion_matrix,classification_report\n",
        "import numpy as np\n",
        "import sys\n",
        "import time\n",
        "import math\n",
        "import pandas as pd\n",
        "from sklearn.utils.validation import check_X_y\n",
        "from sklearn.ensemble import RandomForestClassifier \n",
        "from honest_forests.estimators import HonestForestClassifier\n",
        "from sklearn import tree\n",
        "from sklearn.datasets import make_classification\n",
        "from sklearn.model_selection import train_test_split\n",
        "from sklearn.utils.validation import check_is_fitted\n",
        "from sklearn.utils.validation import check_X_y\n",
        "from sklearn.utils.multiclass import check_classification_targets\n",
        "from sklearn.utils import shuffle\n",
        "import matplotlib.pyplot as plt\n",
        "from sklearn.inspection import permutation_importance\n",
        "import scipy.stats as stats\n",
        "from joblib import Parallel, delayed\n"
      ],
      "outputs": [],
      "execution_count": 9,
      "metadata": {
        "jupyter": {
          "source_hidden": false,
          "outputs_hidden": false
        },
        "nteract": {
          "transient": {
            "deleting": false
          }
        },
        "gather": {
          "logged": 1661972904224
        }
      }
    },
    {
      "cell_type": "code",
      "source": [
        "def Posterior_After(X,v,X_sample,tree_i):\n",
        "    \n",
        "    #Duplicate the sigle sample test\n",
        "    X_testsample_duplicated = np.tile(X,(X_sample.shape[0],1))\n",
        "    \n",
        "    ### Replace test data with values from structure subset   \n",
        "    X_variable = X_sample[:,v]\n",
        "    \n",
        "    X_testsample_duplicated[:,v] = X_variable\n",
        "    X_testsample_duplicated = X_testsample_duplicated.astype(np.float32)\n",
        "    \n",
        "    #Obtain the possible leaves with ignoring variable v\n",
        "    leaves_indicies = np.unique(tree_i.tree_.apply(X_testsample_duplicated)) \n",
        "    value_leaves = np.sum(tree_i.tree_.value[leaves_indicies], axis=0)\n",
        "    \n",
        "    #Calculate the posterior probability for sample x\n",
        "    \n",
        "    posterior_proba = value_leaves/np.sum(value_leaves) \n",
        "    \n",
        "    \n",
        "    return value_leaves,posterior_proba\n",
        "    \n",
        "    "
      ],
      "outputs": [],
      "execution_count": 2,
      "metadata": {
        "jupyter": {
          "source_hidden": false,
          "outputs_hidden": false
        },
        "nteract": {
          "transient": {
            "deleting": false
          }
        },
        "gather": {
          "logged": 1661972645707
        }
      }
    },
    {
      "cell_type": "code",
      "source": [
        "def SCORE(tree_i,X,y):\n",
        "    X_structure = X[tree_i.structure_indices_]\n",
        "    X_honest = X[tree_i.honest_indices_]\n",
        "    y_honest  = y[tree_i.honest_indices_]\n",
        "        \n",
        "    leaves_indicies_before = tree_i.tree_.apply(X_honest.astype(np.float32))\n",
        "    value_leaves_before = tree_i.tree_.value[leaves_indicies_before]\n",
        "    classification_before = np.zeros(X_honest.shape[0])\n",
        "    #error_before = np.zeros((X_honest.shape[0],1))\n",
        "        \n",
        "    posterior_proba_before = np.zeros((X_honest.shape[0],2))##n_classes\n",
        "    value_leaves = np.zeros((X_honest.shape[0],2))\n",
        "    posterior_proba = np.zeros((X_honest.shape[0],2))\n",
        "    classification_after = np.zeros(X_honest.shape[0])\n",
        "    difference_clf = np.zeros(X_honest.shape[0])\n",
        "    #error_after = np.zeros((X_honest.shape[0],1))\n",
        "        \n",
        "    mean_diff = []\n",
        "    for k in range(0,X_honest.shape[1]):\n",
        "        print(k)\n",
        "        for i in range(0,X_honest.shape[0]):\n",
        "            ##Compute posterior probability before merging\n",
        "            posterior_proba_before[i,:] = value_leaves_before[i,:]/np.sum(value_leaves_before[i,:])\n",
        "            ##Compute posterior probability after merging\n",
        "            value_leaves[i,:],posterior_proba[i,:] = Posterior_After(X_honest[i,:],k,X_structure,tree_i)\n",
        "            #Compute the difference of posterior possibility for just one class\n",
        "            \n",
        "        ## Get the classification_before result\n",
        "        classification_before = posterior_proba_before.argmax(1)\n",
        "        #print(classification_before)\n",
        "        ## Get the classification_after result\n",
        "        classification_after = posterior_proba.argmax(1)\n",
        "            \n",
        "        #Calculate classification error before \n",
        "        error_before = np.mean(np.abs(y_honest - classification_before))\n",
        "        #Calculate classification error after merging leaves\n",
        "        error_after = np.mean(np.abs(y_honest - classification_after))\n",
        "        #Calculate the difference of classification error\n",
        "        difference_clf = error_after - error_before\n",
        "        mean_diff = np.append(mean_diff,difference_clf)\n",
        "    return mean_diff"
      ],
      "outputs": [],
      "execution_count": 3,
      "metadata": {
        "jupyter": {
          "source_hidden": false,
          "outputs_hidden": false
        },
        "nteract": {
          "transient": {
            "deleting": false
          }
        },
        "gather": {
          "logged": 1661972648132
        }
      }
    },
    {
      "cell_type": "code",
      "source": [
        "Data = pd.read_csv(\"GSE99095_normalizedExpression.csv\")\n",
        "Data_gene = Data.iloc[:,0]\n",
        "Data_GES = Data.iloc[:,1:].T\n",
        "print(Data_GES)"
      ],
      "outputs": [
        {
          "output_type": "stream",
          "name": "stdout",
          "text": "                0         1         2         3         4         5      \\\nH2_cell_1   -1.902811  0.012077  0.253047  0.879212 -3.412424  1.545093   \nH2_cell_2   -1.826095  0.032311 -2.032669  0.612235 -3.283237  0.673663   \nH2_cell_7   -1.767776  0.155079  1.010954  0.897366 -1.175463  0.913850   \nH2_cell_8   -1.939080  1.227246  0.684497  1.128768  1.866054  0.776755   \nH2_cell_12  -2.467119  0.414571 -0.364441  0.511028  0.497678  0.285301   \n...               ...       ...       ...       ...       ...       ...   \nP7_cell_218 -2.061681  1.018671 -1.799021  0.966253  0.420283  0.329679   \nP7_cell_219 -2.148045 -0.100947  2.272544  0.202707 -0.229254  0.319999   \nP7_cell_220 -2.171899 -5.069060 -5.101365 -5.063417 -5.649684 -3.306641   \nP7_cell_245 -1.528971  1.255883 -4.458437  2.382207  3.412130  1.966724   \nP7_cell_249 -1.568009  2.234874  2.451141  1.692975  1.763232  0.559262   \n\n                6         7         8         9      ...     17248     17249  \\\nH2_cell_1    2.220031 -0.643054 -1.737125  1.483413  ... -0.208095 -0.931528   \nH2_cell_2   -1.420673 -3.087085 -1.660408  1.649095  ... -0.007589 -0.854812   \nH2_cell_7   -1.362355 -1.474627 -1.602090  0.671186  ... -0.073060 -0.796494   \nH2_cell_8    5.451512 -0.434678 -1.773393  0.738582  ... -0.244364 -0.967797   \nH2_cell_12   0.679212 -0.794389 -2.301432  0.147534  ... -0.772402  4.511414   \n...               ...       ...       ...       ...  ...       ...       ...   \nP7_cell_218  3.578698  1.304265 -1.895994  0.455519  ... -0.113638 -1.090398   \nP7_cell_219  3.180479  0.066948 -1.982359  0.516059  ... -0.392051 -0.605858   \nP7_cell_220 -1.766477 -2.442167 -2.006213 -5.301574  ... -0.423286 -1.081509   \nP7_cell_245  5.583903  2.547256 -1.363284 -0.153666  ...  0.165746 -0.557688   \nP7_cell_249 -1.162587  2.740613 -1.402322  1.022090  ...  0.126707 -0.596726   \n\n                17250     17251     17252     17253     17254     17255  \\\nH2_cell_1   -1.651845 -0.285109 -0.991117 -1.185953 -0.115453  2.686191   \nH2_cell_2   -1.575128 -0.208392 -0.914400  0.198767 -0.038736  2.140885   \nH2_cell_7   -1.516810 -0.150074 -0.856082  1.149888  0.019582 -0.471516   \nH2_cell_8   -1.688113  3.960191 -1.027385 -0.012721 -0.151722  1.603901   \nH2_cell_12   4.533961  1.861381 -0.586570 -0.150037 -0.679760  0.203341   \n...               ...       ...       ...       ...       ...       ...   \nP7_cell_218  0.095283 -0.397400 -1.149986  0.106223 -0.274322 -0.740052   \nP7_cell_219  2.533692 -0.509656  0.168845  0.860194 -0.360687 -0.900982   \nP7_cell_220  5.325362 -0.536046  2.162520  0.826181 -0.384541  0.210010   \nP7_cell_245 -1.278004  0.088732 -0.617276 -3.068882  0.258388 -0.344241   \nP7_cell_249 -1.317042  1.234967 -0.656314 -3.107920  0.219350 -0.383279   \n\n                17256     17257  \nH2_cell_1   -0.424183 -0.307680  \nH2_cell_2   -0.347466 -0.334697  \nH2_cell_7   -0.289148 -0.276379  \nH2_cell_8   -0.460452  0.683318  \nH2_cell_12  -0.988490  1.214091  \n...               ...       ...  \nP7_cell_218 -0.583052  2.483827  \nP7_cell_219 -0.669417 -0.656648  \nP7_cell_220 -0.292049 -0.632846  \nP7_cell_245  0.550315 -0.037573  \nP7_cell_249  2.737597  1.808605  \n\n[979 rows x 17258 columns]\n"
        }
      ],
      "execution_count": 4,
      "metadata": {
        "jupyter": {
          "source_hidden": false,
          "outputs_hidden": true
        },
        "nteract": {
          "transient": {
            "deleting": false
          }
        },
        "gather": {
          "logged": 1661972660378
        }
      }
    },
    {
      "cell_type": "code",
      "source": [
        "idx_hp = np.argwhere(np.array(list(map(lambda x: x.find('H'), Data_GES._stat_axis.values.tolist())))==0)\n",
        "Data_GES['H/P'] = 1\n",
        "print(idx_hp.ravel().shape)\n",
        "Data_GES['H/P'][idx_hp.ravel()] = 0\n",
        "print(Data_GES)"
      ],
      "outputs": [
        {
          "output_type": "stream",
          "name": "stdout",
          "text": "(391,)\n                    0         1         2         3         4         5  \\\nH2_cell_1   -1.902811  0.012077  0.253047  0.879212 -3.412424  1.545093   \nH2_cell_2   -1.826095  0.032311 -2.032669  0.612235 -3.283237  0.673663   \nH2_cell_7   -1.767776  0.155079  1.010954  0.897366 -1.175463  0.913850   \nH2_cell_8   -1.939080  1.227246  0.684497  1.128768  1.866054  0.776755   \nH2_cell_12  -2.467119  0.414571 -0.364441  0.511028  0.497678  0.285301   \n...               ...       ...       ...       ...       ...       ...   \nP7_cell_218 -2.061681  1.018671 -1.799021  0.966253  0.420283  0.329679   \nP7_cell_219 -2.148045 -0.100947  2.272544  0.202707 -0.229254  0.319999   \nP7_cell_220 -2.171899 -5.069060 -5.101365 -5.063417 -5.649684 -3.306641   \nP7_cell_245 -1.528971  1.255883 -4.458437  2.382207  3.412130  1.966724   \nP7_cell_249 -1.568009  2.234874  2.451141  1.692975  1.763232  0.559262   \n\n                    6         7         8         9  ...     17249     17250  \\\nH2_cell_1    2.220031 -0.643054 -1.737125  1.483413  ... -0.931528 -1.651845   \nH2_cell_2   -1.420673 -3.087085 -1.660408  1.649095  ... -0.854812 -1.575128   \nH2_cell_7   -1.362355 -1.474627 -1.602090  0.671186  ... -0.796494 -1.516810   \nH2_cell_8    5.451512 -0.434678 -1.773393  0.738582  ... -0.967797 -1.688113   \nH2_cell_12   0.679212 -0.794389 -2.301432  0.147534  ...  4.511414  4.533961   \n...               ...       ...       ...       ...  ...       ...       ...   \nP7_cell_218  3.578698  1.304265 -1.895994  0.455519  ... -1.090398  0.095283   \nP7_cell_219  3.180479  0.066948 -1.982359  0.516059  ... -0.605858  2.533692   \nP7_cell_220 -1.766477 -2.442167 -2.006213 -5.301574  ... -1.081509  5.325362   \nP7_cell_245  5.583903  2.547256 -1.363284 -0.153666  ... -0.557688 -1.278004   \nP7_cell_249 -1.162587  2.740613 -1.402322  1.022090  ... -0.596726 -1.317042   \n\n                17251     17252     17253     17254     17255     17256  \\\nH2_cell_1   -0.285109 -0.991117 -1.185953 -0.115453  2.686191 -0.424183   \nH2_cell_2   -0.208392 -0.914400  0.198767 -0.038736  2.140885 -0.347466   \nH2_cell_7   -0.150074 -0.856082  1.149888  0.019582 -0.471516 -0.289148   \nH2_cell_8    3.960191 -1.027385 -0.012721 -0.151722  1.603901 -0.460452   \nH2_cell_12   1.861381 -0.586570 -0.150037 -0.679760  0.203341 -0.988490   \n...               ...       ...       ...       ...       ...       ...   \nP7_cell_218 -0.397400 -1.149986  0.106223 -0.274322 -0.740052 -0.583052   \nP7_cell_219 -0.509656  0.168845  0.860194 -0.360687 -0.900982 -0.669417   \nP7_cell_220 -0.536046  2.162520  0.826181 -0.384541  0.210010 -0.292049   \nP7_cell_245  0.088732 -0.617276 -3.068882  0.258388 -0.344241  0.550315   \nP7_cell_249  1.234967 -0.656314 -3.107920  0.219350 -0.383279  2.737597   \n\n                17257  H/P  \nH2_cell_1   -0.307680    0  \nH2_cell_2   -0.334697    0  \nH2_cell_7   -0.276379    0  \nH2_cell_8    0.683318    0  \nH2_cell_12   1.214091    0  \n...               ...  ...  \nP7_cell_218  2.483827    1  \nP7_cell_219 -0.656648    1  \nP7_cell_220 -0.632846    1  \nP7_cell_245 -0.037573    1  \nP7_cell_249  1.808605    1  \n\n[979 rows x 17259 columns]\n"
        }
      ],
      "execution_count": 6,
      "metadata": {
        "jupyter": {
          "source_hidden": false,
          "outputs_hidden": true
        },
        "nteract": {
          "transient": {
            "deleting": false
          }
        },
        "gather": {
          "logged": 1661972673612
        }
      }
    },
    {
      "cell_type": "code",
      "source": [
        "X_train = Data_GES.iloc[:,:-1]\n",
        "X_train.shape[1]"
      ],
      "outputs": [
        {
          "output_type": "execute_result",
          "execution_count": 7,
          "data": {
            "text/plain": "17258"
          },
          "metadata": {}
        }
      ],
      "execution_count": 7,
      "metadata": {
        "jupyter": {
          "source_hidden": false,
          "outputs_hidden": false
        },
        "nteract": {
          "transient": {
            "deleting": false
          }
        },
        "gather": {
          "logged": 1661972680233
        }
      }
    },
    {
      "cell_type": "code",
      "source": [
        "##Compute feature importance from FIMs\n",
        "X_train = np.array(Data_GES.iloc[:,:-1])\n",
        "y_train = np.array(Data_GES.iloc[:,-1])\n",
        "\n",
        "N = 2\n",
        "d = X_train.shape[1]\n",
        "n_estimator = 100\n",
        "\n",
        "score_hf = np.zeros((N,d))## HFIM\n",
        "#Calculter Permutation Based HF socre\n",
        "score_hfp = np.zeros((N,d))## Permutation FIM with honest forest\n",
        "\n",
        "#Calculter Permutation Based RF socre\n",
        "score_rfp = np.zeros((N,d))\n",
        "\n",
        "for num in range(0,N):\n",
        "    print(num)\n",
        "    \n",
        "    \n",
        "\n",
        "    #Train an Honest Tree\n",
        "    ###We find that the honest tree nust be full trained？\n",
        "    ###there will be difference for the rank of feature imporatnces  \n",
        "    #t_ht = time.time()\n",
        "    Data = shuffle(Data_GES)\n",
        "    \n",
        "    clf = HonestForestClassifier(honest_fraction = 0.8, n_estimators = n_estimator,max_features = d,bootstrap = False)\n",
        "    clf = clf.fit(X_train, y_train)\n",
        "    print(\"finish\")\n",
        "    score_tree = Parallel(n_jobs=-1)(delayed(SCORE)(tree_i,X_train,y_train) for tree_i in (clf.estimators_))\n",
        "\n",
        "    #Save HF socre\n",
        "    score_hf[num,:] = np.mean(score_tree,axis = 0)\n",
        "    \n",
        "    r_hf = permutation_importance(clf, X_train, y_train,n_repeats=5,random_state=0)\n",
        "    score_hfp[num,:] = r_hf.importances_mean\n",
        "    \n",
        "    clf_rf = RandomForestClassifier(n_estimators = n_estimator,max_features = d)\n",
        "    clf_rf = clf_rf.fit(X_train, y_train)\n",
        "    \n",
        "    r_rf = permutation_importance(clf_rf, X_train, y_train,n_repeats=5,random_state=0,bootstrap = False)\n",
        "    score_rfp[num,:] = r_rf.importances_mean\n",
        "    num += 1\n",
        "    \n",
        " "
      ],
      "outputs": [
        {
          "output_type": "stream",
          "name": "stdout",
          "text": "0\nfinish\n"
        }
      ],
      "execution_count": 11,
      "metadata": {
        "jupyter": {
          "source_hidden": false,
          "outputs_hidden": false
        },
        "nteract": {
          "transient": {
            "deleting": false
          }
        },
        "gather": {
          "logged": 1661972969066
        }
      }
    }
  ],
  "metadata": {
    "kernelspec": {
      "name": "python38-azureml",
      "language": "python",
      "display_name": "Python 3.8 - AzureML"
    },
    "language_info": {
      "name": "python",
      "version": "3.8.5",
      "mimetype": "text/x-python",
      "codemirror_mode": {
        "name": "ipython",
        "version": 3
      },
      "pygments_lexer": "ipython3",
      "nbconvert_exporter": "python",
      "file_extension": ".py"
    },
    "kernel_info": {
      "name": "python38-azureml"
    },
    "nteract": {
      "version": "nteract-front-end@1.0.0"
    },
    "microsoft": {
      "host": {
        "AzureML": {
          "notebookHasBeenCompleted": true
        }
      }
    }
  },
  "nbformat": 4,
  "nbformat_minor": 2
}