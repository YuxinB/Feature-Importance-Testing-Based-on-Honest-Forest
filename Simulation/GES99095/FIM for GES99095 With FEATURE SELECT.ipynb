{
  "cells": [
    {
      "cell_type": "code",
      "source": [
        "import matplotlib.pyplot as plt\n",
        "from sklearn.metrics import accuracy_score,confusion_matrix,classification_report\n",
        "import numpy as np\n",
        "import sys\n",
        "import time\n",
        "import math\n",
        "import pandas as pd\n",
        "import copy\n",
        "from sklearn.utils.validation import check_X_y\n",
        "from sklearn.ensemble import RandomForestClassifier \n",
        "from honest_forests.estimators import HonestForestClassifier\n",
        "from sklearn import tree\n",
        "from sklearn.datasets import make_classification\n",
        "from sklearn.model_selection import train_test_split\n",
        "from sklearn.utils.validation import check_is_fitted\n",
        "from sklearn.utils.validation import check_X_y\n",
        "from sklearn.utils.multiclass import check_classification_targets\n",
        "from sklearn.utils import shuffle\n",
        "import matplotlib.pyplot as plt\n",
        "from sklearn.inspection import permutation_importance\n",
        "import scipy.stats as stats\n",
        "from joblib import Parallel, delayed\n",
        "from sklearn.model_selection import train_test_split"
      ],
      "outputs": [],
      "execution_count": 5,
      "metadata": {
        "collapsed": false,
        "gather": {
          "logged": 1663816771024
        },
        "jupyter": {
          "outputs_hidden": false,
          "source_hidden": false
        },
        "nteract": {
          "transient": {
            "deleting": false
          }
        }
      }
    },
    {
      "cell_type": "code",
      "source": [
        "def Posterior_After(X,v,X_sample,tree_i):\n",
        "    \n",
        "    #Duplicate the sigle sample test\n",
        "    X_testsample_duplicated = np.tile(X,(X_sample.shape[0],1))\n",
        "    \n",
        "    ### Replace test data with values from structure subset   \n",
        "    X_variable = X_sample[:,v]\n",
        "    \n",
        "    X_testsample_duplicated[:,v] = X_variable\n",
        "    X_testsample_duplicated = X_testsample_duplicated.astype(np.float32)\n",
        "    \n",
        "    #Obtain the possible leaves with ignoring variable v\n",
        "    leaves_indicies = np.unique(tree_i.tree_.apply(X_testsample_duplicated)) \n",
        "    value_leaves = np.sum(tree_i.tree_.value[leaves_indicies], axis=0)\n",
        "    \n",
        "    #Calculate the posterior probability for sample x\n",
        "    \n",
        "    posterior_proba = value_leaves/np.sum(value_leaves) \n",
        "    \n",
        "    \n",
        "    return value_leaves,posterior_proba\n",
        "    \n",
        "    "
      ],
      "outputs": [],
      "execution_count": 6,
      "metadata": {
        "collapsed": false,
        "gather": {
          "logged": 1663816772778
        },
        "jupyter": {
          "outputs_hidden": false,
          "source_hidden": false
        },
        "nteract": {
          "transient": {
            "deleting": false
          }
        }
      }
    },
    {
      "cell_type": "code",
      "source": [
        "def SCORE(tree_i,X,y):\n",
        "    X_structure = X[tree_i.structure_indices_]\n",
        "    X_honest = X[tree_i.honest_indices_]\n",
        "    y_honest  = y[tree_i.honest_indices_]\n",
        "        \n",
        "    leaves_indicies_before = tree_i.tree_.apply(X_honest.astype(np.float32))\n",
        "    value_leaves_before = tree_i.tree_.value[leaves_indicies_before]\n",
        "    classification_before = np.zeros(X_honest.shape[0])\n",
        "    #error_before = np.zeros((X_honest.shape[0],1))\n",
        "        \n",
        "    posterior_proba_before = np.zeros((X_honest.shape[0],2))##n_classes\n",
        "    value_leaves = np.zeros((X_honest.shape[0],2))\n",
        "    posterior_proba = np.zeros((X_honest.shape[0],2))\n",
        "    classification_after = np.zeros(X_honest.shape[0])\n",
        "    difference_clf = np.zeros(X_honest.shape[0])\n",
        "    #error_after = np.zeros((X_honest.shape[0],1))\n",
        "        \n",
        "    mean_diff = np.zeros(X_honest.shape[1])\n",
        "    feature_org = pd.unique(tree_i.tree_.feature)\n",
        "    feature = feature_org[feature_org>=0]\n",
        "    print(feature)\n",
        "    for k in feature:\n",
        "        print(k)\n",
        "        for i in range(0,X_honest.shape[0]):\n",
        "            ##Compute posterior probability before merging\n",
        "            posterior_proba_before[i,:] = value_leaves_before[i,:]/np.sum(value_leaves_before[i,:])\n",
        "            ##Compute posterior probability after merging\n",
        "            value_leaves[i,:],posterior_proba[i,:] = Posterior_After(X_honest[i,:],k,X_structure,tree_i)\n",
        "            #Compute the difference of posterior possibility for just one class\n",
        "            \n",
        "        ## Get the classification_before result\n",
        "        classification_before = posterior_proba_before.argmax(1)\n",
        "        #print(classification_before)\n",
        "        ## Get the classification_after result\n",
        "        classification_after = posterior_proba.argmax(1)\n",
        "            \n",
        "        #Calculate classification error before \n",
        "        error_before = np.mean(np.abs(y_honest - classification_before))\n",
        "        #Calculate classification error after merging leaves\n",
        "        error_after = np.mean(np.abs(y_honest - classification_after))\n",
        "        #Calculate the difference of classification error\n",
        "        difference_clf = error_after - error_before\n",
        "        mean_diff[k] = difference_clf\n",
        "    return mean_diff"
      ],
      "outputs": [],
      "execution_count": 7,
      "metadata": {
        "collapsed": false,
        "gather": {
          "logged": 1663816774749
        },
        "jupyter": {
          "outputs_hidden": false,
          "source_hidden": false
        },
        "nteract": {
          "transient": {
            "deleting": false
          }
        }
      }
    },
    {
      "cell_type": "code",
      "source": [
        "def Permutation(X,y,CLASSIFIER):\r\n",
        "    Y_predict_before = CLASSIFIER.predict(X)\r\n",
        "    predict_error = np.mean(np.abs(Y_predict_before-y))\r\n",
        "    feature = []\r\n",
        "    for tree_i in CLASSIFIER.estimators_:\r\n",
        "        feature_org_i = pd.unique(tree_i.tree_.feature)\r\n",
        "        feature_i = feature_org_i[feature_org_i>=0]\r\n",
        "        feature = pd.unique([int(x) for x in pd.unique(np.append(feature,feature_i))])\r\n",
        "    permutation_score = np.zeros(X.shape[1])\r\n",
        "    for k in feature:\r\n",
        "        #print(k)\r\n",
        "        score_k = []\r\n",
        "        for i in range(0,5):\r\n",
        "            #print(X[:,k])\r\n",
        "            X_k = copy.copy(X)\r\n",
        "            #print(X_k)\r\n",
        "            X_k[:,k] = shuffle(X[:,k])\r\n",
        "            #print(X_k[:,k])\r\n",
        "            #print(X[:,k])\r\n",
        "            Y_predict_after = CLASSIFIER.predict(X_k)\r\n",
        "            predict_error_after = np.mean(np.abs(Y_predict_after-y))\r\n",
        "            #print(predict_error_after)\r\n",
        "            score_k = np.append(score_k,predict_error_after-predict_error)\r\n",
        "        permutation_score[k] = np.mean(score_k)\r\n",
        "    print(permutation_score)\r\n",
        "    return permutation_score\r\n",
        "            \r\n"
      ],
      "outputs": [],
      "execution_count": 8,
      "metadata": {
        "jupyter": {
          "source_hidden": false,
          "outputs_hidden": false
        },
        "nteract": {
          "transient": {
            "deleting": false
          }
        },
        "gather": {
          "logged": 1663816777758
        }
      }
    },
    {
      "cell_type": "code",
      "source": [
        "Data = pd.read_csv(\"GSE99095_normalizedExpression.csv\")\n",
        "Data_gene = Data.iloc[:,0]\n",
        "Data_GES = Data.iloc[:,1:].T\n",
        "print(Data_GES)"
      ],
      "outputs": [
        {
          "output_type": "stream",
          "name": "stdout",
          "text": "                0         1         2         3         4         5      \\\nH2_cell_1   -1.902811  0.012077  0.253047  0.879212 -3.412424  1.545093   \nH2_cell_2   -1.826095  0.032311 -2.032669  0.612235 -3.283237  0.673663   \nH2_cell_7   -1.767776  0.155079  1.010954  0.897366 -1.175463  0.913850   \nH2_cell_8   -1.939080  1.227246  0.684497  1.128768  1.866054  0.776755   \nH2_cell_12  -2.467119  0.414571 -0.364441  0.511028  0.497678  0.285301   \n...               ...       ...       ...       ...       ...       ...   \nP7_cell_218 -2.061681  1.018671 -1.799021  0.966253  0.420283  0.329679   \nP7_cell_219 -2.148045 -0.100947  2.272544  0.202707 -0.229254  0.319999   \nP7_cell_220 -2.171899 -5.069060 -5.101365 -5.063417 -5.649684 -3.306641   \nP7_cell_245 -1.528971  1.255883 -4.458437  2.382207  3.412130  1.966724   \nP7_cell_249 -1.568009  2.234874  2.451141  1.692975  1.763232  0.559262   \n\n                6         7         8         9      ...     17248     17249  \\\nH2_cell_1    2.220031 -0.643054 -1.737125  1.483413  ... -0.208095 -0.931528   \nH2_cell_2   -1.420673 -3.087085 -1.660408  1.649095  ... -0.007589 -0.854812   \nH2_cell_7   -1.362355 -1.474627 -1.602090  0.671186  ... -0.073060 -0.796494   \nH2_cell_8    5.451512 -0.434678 -1.773393  0.738582  ... -0.244364 -0.967797   \nH2_cell_12   0.679212 -0.794389 -2.301432  0.147534  ... -0.772402  4.511414   \n...               ...       ...       ...       ...  ...       ...       ...   \nP7_cell_218  3.578698  1.304265 -1.895994  0.455519  ... -0.113638 -1.090398   \nP7_cell_219  3.180479  0.066948 -1.982359  0.516059  ... -0.392051 -0.605858   \nP7_cell_220 -1.766477 -2.442167 -2.006213 -5.301574  ... -0.423286 -1.081509   \nP7_cell_245  5.583903  2.547256 -1.363284 -0.153666  ...  0.165746 -0.557688   \nP7_cell_249 -1.162587  2.740613 -1.402322  1.022090  ...  0.126707 -0.596726   \n\n                17250     17251     17252     17253     17254     17255  \\\nH2_cell_1   -1.651845 -0.285109 -0.991117 -1.185953 -0.115453  2.686191   \nH2_cell_2   -1.575128 -0.208392 -0.914400  0.198767 -0.038736  2.140885   \nH2_cell_7   -1.516810 -0.150074 -0.856082  1.149888  0.019582 -0.471516   \nH2_cell_8   -1.688113  3.960191 -1.027385 -0.012721 -0.151722  1.603901   \nH2_cell_12   4.533961  1.861381 -0.586570 -0.150037 -0.679760  0.203341   \n...               ...       ...       ...       ...       ...       ...   \nP7_cell_218  0.095283 -0.397400 -1.149986  0.106223 -0.274322 -0.740052   \nP7_cell_219  2.533692 -0.509656  0.168845  0.860194 -0.360687 -0.900982   \nP7_cell_220  5.325362 -0.536046  2.162520  0.826181 -0.384541  0.210010   \nP7_cell_245 -1.278004  0.088732 -0.617276 -3.068882  0.258388 -0.344241   \nP7_cell_249 -1.317042  1.234967 -0.656314 -3.107920  0.219350 -0.383279   \n\n                17256     17257  \nH2_cell_1   -0.424183 -0.307680  \nH2_cell_2   -0.347466 -0.334697  \nH2_cell_7   -0.289148 -0.276379  \nH2_cell_8   -0.460452  0.683318  \nH2_cell_12  -0.988490  1.214091  \n...               ...       ...  \nP7_cell_218 -0.583052  2.483827  \nP7_cell_219 -0.669417 -0.656648  \nP7_cell_220 -0.292049 -0.632846  \nP7_cell_245  0.550315 -0.037573  \nP7_cell_249  2.737597  1.808605  \n\n[979 rows x 17258 columns]\n"
        }
      ],
      "execution_count": 9,
      "metadata": {
        "gather": {
          "logged": 1663816789774
        },
        "nteract": {
          "transient": {
            "deleting": false
          }
        }
      }
    },
    {
      "cell_type": "code",
      "source": [
        "idx_hp = np.argwhere(np.array(list(map(lambda x: x.find('H'), Data_GES._stat_axis.values.tolist())))==0)\n",
        "Data_GES['H/P'] = 1\n",
        "print(idx_hp.ravel().shape)\n",
        "Data_GES['H/P'][idx_hp.ravel()] = 0\n",
        "print(Data_GES)"
      ],
      "outputs": [
        {
          "output_type": "stream",
          "name": "stdout",
          "text": "(391,)\n                    0         1         2         3         4         5  \\\nH2_cell_1   -1.902811  0.012077  0.253047  0.879212 -3.412424  1.545093   \nH2_cell_2   -1.826095  0.032311 -2.032669  0.612235 -3.283237  0.673663   \nH2_cell_7   -1.767776  0.155079  1.010954  0.897366 -1.175463  0.913850   \nH2_cell_8   -1.939080  1.227246  0.684497  1.128768  1.866054  0.776755   \nH2_cell_12  -2.467119  0.414571 -0.364441  0.511028  0.497678  0.285301   \n...               ...       ...       ...       ...       ...       ...   \nP7_cell_218 -2.061681  1.018671 -1.799021  0.966253  0.420283  0.329679   \nP7_cell_219 -2.148045 -0.100947  2.272544  0.202707 -0.229254  0.319999   \nP7_cell_220 -2.171899 -5.069060 -5.101365 -5.063417 -5.649684 -3.306641   \nP7_cell_245 -1.528971  1.255883 -4.458437  2.382207  3.412130  1.966724   \nP7_cell_249 -1.568009  2.234874  2.451141  1.692975  1.763232  0.559262   \n\n                    6         7         8         9  ...     17249     17250  \\\nH2_cell_1    2.220031 -0.643054 -1.737125  1.483413  ... -0.931528 -1.651845   \nH2_cell_2   -1.420673 -3.087085 -1.660408  1.649095  ... -0.854812 -1.575128   \nH2_cell_7   -1.362355 -1.474627 -1.602090  0.671186  ... -0.796494 -1.516810   \nH2_cell_8    5.451512 -0.434678 -1.773393  0.738582  ... -0.967797 -1.688113   \nH2_cell_12   0.679212 -0.794389 -2.301432  0.147534  ...  4.511414  4.533961   \n...               ...       ...       ...       ...  ...       ...       ...   \nP7_cell_218  3.578698  1.304265 -1.895994  0.455519  ... -1.090398  0.095283   \nP7_cell_219  3.180479  0.066948 -1.982359  0.516059  ... -0.605858  2.533692   \nP7_cell_220 -1.766477 -2.442167 -2.006213 -5.301574  ... -1.081509  5.325362   \nP7_cell_245  5.583903  2.547256 -1.363284 -0.153666  ... -0.557688 -1.278004   \nP7_cell_249 -1.162587  2.740613 -1.402322  1.022090  ... -0.596726 -1.317042   \n\n                17251     17252     17253     17254     17255     17256  \\\nH2_cell_1   -0.285109 -0.991117 -1.185953 -0.115453  2.686191 -0.424183   \nH2_cell_2   -0.208392 -0.914400  0.198767 -0.038736  2.140885 -0.347466   \nH2_cell_7   -0.150074 -0.856082  1.149888  0.019582 -0.471516 -0.289148   \nH2_cell_8    3.960191 -1.027385 -0.012721 -0.151722  1.603901 -0.460452   \nH2_cell_12   1.861381 -0.586570 -0.150037 -0.679760  0.203341 -0.988490   \n...               ...       ...       ...       ...       ...       ...   \nP7_cell_218 -0.397400 -1.149986  0.106223 -0.274322 -0.740052 -0.583052   \nP7_cell_219 -0.509656  0.168845  0.860194 -0.360687 -0.900982 -0.669417   \nP7_cell_220 -0.536046  2.162520  0.826181 -0.384541  0.210010 -0.292049   \nP7_cell_245  0.088732 -0.617276 -3.068882  0.258388 -0.344241  0.550315   \nP7_cell_249  1.234967 -0.656314 -3.107920  0.219350 -0.383279  2.737597   \n\n                17257  H/P  \nH2_cell_1   -0.307680    0  \nH2_cell_2   -0.334697    0  \nH2_cell_7   -0.276379    0  \nH2_cell_8    0.683318    0  \nH2_cell_12   1.214091    0  \n...               ...  ...  \nP7_cell_218  2.483827    1  \nP7_cell_219 -0.656648    1  \nP7_cell_220 -0.632846    1  \nP7_cell_245 -0.037573    1  \nP7_cell_249  1.808605    1  \n\n[979 rows x 17259 columns]\n"
        }
      ],
      "execution_count": 11,
      "metadata": {
        "gather": {
          "logged": 1663816802098
        },
        "nteract": {
          "transient": {
            "deleting": false
          }
        }
      }
    },
    {
      "cell_type": "code",
      "source": [
        "X_train = Data_GES.iloc[:,:-1]\n",
        "train_set,test_set = train_test_split(Data_GES,test_size = 0.2,random_state = 0)\n",
        "\n",
        "X_train = np.array(train_set.iloc[:,:-1])\n",
        "y_train = np.array(train_set.iloc[:,-1])\n",
        "X_train.shape\n",
        "y_train.shape"
      ],
      "outputs": [
        {
          "output_type": "execute_result",
          "execution_count": 12,
          "data": {
            "text/plain": "(783,)"
          },
          "metadata": {}
        }
      ],
      "execution_count": 12,
      "metadata": {
        "collapsed": false,
        "gather": {
          "logged": 1663816805903
        },
        "jupyter": {
          "outputs_hidden": false,
          "source_hidden": false
        },
        "nteract": {
          "transient": {
            "deleting": false
          }
        }
      }
    },
    {
      "cell_type": "code",
      "source": [
        "##Compute feature importance from FIMs\n",
        "\n",
        "N = 1\n",
        "d = X_train.shape[1]\n",
        "n_estimator = 100\n",
        "\n",
        "score_hf = np.zeros((N,d))## HFIM\n",
        "#Calculter Permutation Based HF socre\n",
        "score_hfp = np.zeros((N,d))## Permutation FIM with honest forest\n",
        "\n",
        "#Calculter Permutation Based RF socre\n",
        "score_rfp = np.zeros((N,d))\n",
        "error = [] \n",
        "error_rf = []\n",
        "for num in range(0,N):\n",
        "    print(num)\n",
        "    #Train an Honest Tree\n",
        "    ###We find that the honest tree nust be full trained？\n",
        "    ###there will be difference for the rank of feature imporatnces  \n",
        "    #t_ht = time.time()\n",
        "    Data = shuffle(Data_GES)\n",
        "    train_set,test_set = train_test_split(Data,test_size = 0.2,random_state = 0)\n",
        "\n",
        "    X_train = np.array(train_set.iloc[:,:-1])\n",
        "    y_train = np.array(train_set.iloc[:,-1])\n",
        "\n",
        "    X_test = np.array(test_set.iloc[:,:-1])\n",
        "    y_test = np.array(test_set.iloc[:,-1])\n",
        "    \n",
        "    tic_hf = time.time()\n",
        "    clf = HonestForestClassifier(honest_fraction = 0.3, n_estimators = n_estimator,max_features = d,bootstrap = False)\n",
        "    clf = clf.fit(X_train, y_train)\n",
        "    toc_hf = time.time()\n",
        "    print(\"finish\")\n",
        "    y_predict = clf.predict(X_test)\n",
        "    predict_error = np.mean(np.abs(y_test-y_predict))\n",
        "    error = np.append(error,predict_error)\n",
        "    print(toc_hf-tic_hf)\n",
        "    print(\"finish\")\n",
        "    print(\"prediction error\" + str(predict_error))\n",
        "    \n",
        "    \n",
        "    tic_1 = time.time()\n",
        "    # score_tree = np.zeros((n_estimator,d))\n",
        "    # num_tree = 0\n",
        "    \n",
        "    score_tree = Parallel(n_jobs=-1)(delayed(SCORE)(tree_i,X_train,y_train) for tree_i in (clf.estimators_))\n",
        "    # for tree_i in clf.estimators_:\n",
        "        \n",
        "    #     score_tree_i = SCORE(tree_i,X_train,y_train)\n",
        "    #     score_tree[num_tree,:] = score_tree_i\n",
        "    #     num_tree = num_tree+1\n",
        "    #     print(num_tree)\n",
        "\n",
        "    #Save HF socre\n",
        "    score_hf[num,:] = np.mean(score_tree,axis = 0)\n",
        "    toc_1 = time.time()\n",
        "    print(\"TIME_HF \" + str(toc_1-tic_1))\n",
        "    \n",
        "    tic_2 = time.time()\n",
        "    r_hf = Permutation(X_train,y_train,clf)\n",
        "    score_hfp[num,:] = r_hf\n",
        "    toc_2 = time.time()\n",
        "    print(\"TIME_HFP\" + str(toc_2-tic_2))\n",
        "    \n",
        "    tic_rf = time.time()\n",
        "    clf_rf = RandomForestClassifier(n_estimators = n_estimator,max_features = d,bootstrap = False)\n",
        "    clf_rf = clf_rf.fit(X_train, y_train)\n",
        "    toc_rf = time.time()\n",
        "    print(\"finish\")\n",
        "    y_predict_rf = clf_rf.predict(X_test)\n",
        "    predict_error_rf = np.mean(np.abs(y_predict_rf-y_test))\n",
        "    error_rf = np.append(error_rf,predict_error_rf)\n",
        "\n",
        "    print(\"finish\")\n",
        "    print(\"prediction error\" + str(predict_error_rf))\n",
        "    \n",
        "    tic_3 = time.time()\n",
        "    r_rf = Permutation(X_train,y_train,clf_rf)\n",
        "    score_rfp[num,:] = r_rf\n",
        "    toc_3 = time.time()\n",
        "    print(\"TIME_RF\" + str(toc_rf-tic_rf))\n",
        "    print(\"TIME_RFP\" + str(toc_3-tic_3))\n",
        "\n",
        "    num += 1\n",
        "    \n",
        " "
      ],
      "outputs": [
        {
          "output_type": "stream",
          "name": "stdout",
          "text": "0\nfinish\n393.4749994277954\nfinish\nprediction error0.02040816326530612\n"
        }
      ],
      "execution_count": 16,
      "metadata": {
        "collapsed": false,
        "gather": {
          "logged": 1663821022813
        },
        "jupyter": {
          "outputs_hidden": false,
          "source_hidden": false
        },
        "nteract": {
          "transient": {
            "deleting": false
          }
        }
      }
    },
    {
      "cell_type": "code",
      "source": [
        "np.save('FIM_HF_Score_GES_5Iteration3.npy',score_hf)"
      ],
      "outputs": [],
      "execution_count": null,
      "metadata": {
        "jupyter": {
          "source_hidden": false,
          "outputs_hidden": false
        },
        "nteract": {
          "transient": {
            "deleting": false
          }
        }
      }
    },
    {
      "cell_type": "code",
      "source": [
        "np.save('FIM_HF_Score_GES_5Iteration4_withRF.npy',score_hf)"
      ],
      "outputs": [],
      "execution_count": 38,
      "metadata": {
        "jupyter": {
          "source_hidden": false,
          "outputs_hidden": false
        },
        "nteract": {
          "transient": {
            "deleting": false
          }
        },
        "gather": {
          "logged": 1663249870012
        }
      }
    },
    {
      "cell_type": "code",
      "source": [
        "score_hf_mean = np.mean(score_hf,axis = 0)\n",
        "ci_hf_low,ci_hf_up = stats.t.interval(0.95, N-1, loc=np.mean(score_hfp,axis = 0), scale=stats.sem(score_hfp,axis = 0))\n",
        "plt.plot(np.arange(1,d+1,1),score_hf_mean,'r--',marker='o', markersize=2,label = 'Mean HFIM Score with All Features')\n",
        "plt.fill_between(np.arange(1,d+1,1),ci_hf_low,ci_hf_up,alpha = 0.3,color = 'red',label = '95% CI of HFIM Score with All Features')\n",
        "width_hf = np.mean(ci_hf_up-ci_hf_low)\n",
        "print(\"average width of 95% CI of HFIM Score is \" + str(width_hf))\n",
        "\n",
        "\n",
        "score_hfp_mean = np.mean(score_hfp,axis = 0)\n",
        "ci_hfp_low,ci_hfp_up = stats.t.interval(0.95, N-1, loc=np.mean(score_hfp,axis = 0), scale=stats.sem(score_hfp,axis = 0))\n",
        "plt.plot(np.arange(1,d+1,1),score_hfp_mean,'g--',marker='o', markersize=2,label = 'Mean Permutation FIM Score with All Features')\n",
        "plt.fill_between(np.arange(1,d+1,1),ci_hfp_low,ci_hfp_up,alpha = 0.3,color = 'green',label = '95% CI of Permutation HF FIM Score with All Features')\n",
        "width_hf = np.mean(ci_hfp_up-ci_hfp_low)\n",
        "print(\"average width of 95% CI of HFIM Score is \" + str(width_hf))\n",
        "\n",
        "\n",
        "score_rfp_mean = np.mean(score_rfp,axis = 0)\n",
        "ci_rfp_low,ci_rfp_up = stats.t.interval(0.95, N-1, loc=np.mean(score_rfp,axis = 0), scale=stats.sem(score_rfp,axis = 0))\n",
        "plt.plot(np.arange(1,d+1,1),score_rfp_mean,'b--',marker='o', markersize=2,label = 'Mean Permutation RF FIM Score with All Features')\n",
        "plt.fill_between(np.arange(1,d+1,1),ci_rfp_low,ci_rfp_up,alpha = 0.3,color = 'blue',label = '95% CI of Permutation RF FIM Score with All Features')\n",
        "width_hf = np.mean(ci_hfp_up-ci_hfp_low)\n",
        "\n",
        "\n",
        "\n",
        "plt.xlabel('Features')\n",
        "plt.ylabel('Score')\n",
        "plt.legend(loc = 'upper right',fontsize = 'small')\n",
        "plt.title('HFIM SCORE for GES99095')\n",
        "#plt.savefig('95% CI of FIM Score with 500 Train Samples',bbox_inches = 'tight')\n",
        "plt.show()"
      ],
      "outputs": [
        {
          "output_type": "stream",
          "name": "stdout",
          "text": "average width of 95% CI of HFIM Score is nan\naverage width of 95% CI of HFIM Score is nan\n"
        },
        {
          "output_type": "display_data",
          "data": {
            "text/plain": "<Figure size 432x288 with 1 Axes>",
            "image/png": "[encoded data removed]"
          },
          "metadata": {
            "needs_background": "light"
          }
        },
        {
          "output_type": "stream",
          "name": "stderr",
          "text": "/anaconda/envs/azureml_py38/lib/python3.8/site-packages/numpy/core/_methods.py:233: RuntimeWarning: Degrees of freedom <= 0 for slice\n  ret = _var(a, axis=axis, dtype=dtype, out=out, ddof=ddof,\n/anaconda/envs/azureml_py38/lib/python3.8/site-packages/numpy/core/_methods.py:223: RuntimeWarning: invalid value encountered in true_divide\n  ret = um.true_divide(\n/anaconda/envs/azureml_py38/lib/python3.8/site-packages/numpy/core/_methods.py:233: RuntimeWarning: Degrees of freedom <= 0 for slice\n  ret = _var(a, axis=axis, dtype=dtype, out=out, ddof=ddof,\n/anaconda/envs/azureml_py38/lib/python3.8/site-packages/numpy/core/_methods.py:223: RuntimeWarning: invalid value encountered in true_divide\n  ret = um.true_divide(\n/anaconda/envs/azureml_py38/lib/python3.8/site-packages/numpy/core/_methods.py:233: RuntimeWarning: Degrees of freedom <= 0 for slice\n  ret = _var(a, axis=axis, dtype=dtype, out=out, ddof=ddof,\n/anaconda/envs/azureml_py38/lib/python3.8/site-packages/numpy/core/_methods.py:223: RuntimeWarning: invalid value encountered in true_divide\n  ret = um.true_divide(\n"
        }
      ],
      "execution_count": 15,
      "metadata": {
        "collapsed": false,
        "jupyter": {
          "outputs_hidden": false,
          "source_hidden": false
        },
        "nteract": {
          "transient": {
            "deleting": false
          }
        },
        "gather": {
          "logged": 1663821129303
        }
      }
    },
    {
      "cell_type": "code",
      "source": [
        "np.where(score_hf_mean > 0)"
      ],
      "outputs": [
        {
          "output_type": "execute_result",
          "execution_count": 29,
          "data": {
            "text/plain": "(array([   13,    24,    75,   131,   286,   409,   554,   679,   703,\n          838,   962,  1044,  1136,  1245,  1259,  1666,  1742,  1763,\n         1773,  1802,  1833,  1853,  2051,  2058,  2061,  2332,  2533,\n         2562,  2592,  2648,  2652,  2731,  2782,  2790,  2879,  2882,\n         3074,  3242,  3268,  3291,  3406,  3594,  3711,  3801,  3870,\n         3890,  4152,  4189,  4325,  4385,  4524,  4560,  4721,  4773,\n         4919,  4999,  5025,  5078,  5500,  5511,  5540,  5619,  5631,\n         5757,  5791,  5802,  5964,  6356,  6369,  6458,  6477,  6478,\n         6498,  6637,  6704,  6800,  6835,  6960,  6971,  7075,  7260,\n         7413,  7465,  7543,  7611,  7612,  7696,  7708,  7879,  7884,\n         7891,  7923,  8099,  8208,  8215,  8433,  8579,  8610,  8639,\n         8756,  8802,  8892,  8952,  8954,  8975,  8995,  9063,  9067,\n         9233,  9235,  9407,  9541,  9600,  9645,  9767,  9912, 10039,\n        10258, 10333, 10549, 10596, 10602, 10634, 10751, 10826, 10840,\n        11046, 11134, 11232, 11277, 11278, 11318, 11472, 11542, 11616,\n        11782, 11785, 11819, 11907, 11913, 11987, 12103, 12290, 12314,\n        12406, 12435, 12475, 12491, 12495, 12622, 13057, 13081, 13174,\n        13271, 13285, 13307, 13363, 13425, 13505, 13513, 13522, 13573,\n        13596, 13642, 13643, 13657, 13781, 14109, 14197, 14430, 14529,\n        14582, 14846, 14860, 15027, 15097, 15161, 15169, 15174, 15446,\n        15493, 15678, 15728, 15840, 16007, 16089, 16444, 16461, 16462,\n        16610, 16640, 16702, 16730, 16747, 16761, 16774, 16792, 16911,\n        17113, 17162, 17231]),)"
          },
          "metadata": {}
        }
      ],
      "execution_count": 29,
      "metadata": {
        "jupyter": {
          "source_hidden": false,
          "outputs_hidden": false
        },
        "nteract": {
          "transient": {
            "deleting": false
          }
        },
        "gather": {
          "logged": 1663205259721
        }
      }
    },
    {
      "cell_type": "code",
      "source": [
        "np.where(score_hfp_mean > 0)"
      ],
      "outputs": [
        {
          "output_type": "execute_result",
          "execution_count": 30,
          "data": {
            "text/plain": "(array([   24,   679,   700,  1853,  2533,  2608,  2648,  2652,  2782,\n         2882,  3268,  3291,  3479,  3890,  4082,  4095,  4325,  4385,\n         4524,  4560,  4577,  4795,  4919,  5543,  5619,  5631,  5757,\n         6458,  6477,  6478,  6800,  6835,  7075,  7465,  7611,  7848,\n         8579,  8639,  8736,  8802,  8975,  9366,  9541,  9912, 10039,\n        10168, 10549, 10596, 10786, 10845, 11046, 11782, 11785, 11913,\n        11987, 12103, 12290, 12405, 12495, 13573, 13643, 13867, 14529,\n        15097, 15678, 16089, 16444, 16761, 16774, 17231]),)"
          },
          "metadata": {}
        }
      ],
      "execution_count": 30,
      "metadata": {
        "jupyter": {
          "source_hidden": false,
          "outputs_hidden": false
        },
        "nteract": {
          "transient": {
            "deleting": false
          }
        },
        "gather": {
          "logged": 1663205272814
        }
      }
    },
    {
      "cell_type": "code",
      "source": [
        "np.where(score_rfp_mean > 0)"
      ],
      "outputs": [
        {
          "output_type": "execute_result",
          "execution_count": 31,
          "data": {
            "text/plain": "(array([ 2648,  6800, 12290, 12495, 13643]),)"
          },
          "metadata": {}
        }
      ],
      "execution_count": 31,
      "metadata": {
        "jupyter": {
          "source_hidden": false,
          "outputs_hidden": false
        },
        "nteract": {
          "transient": {
            "deleting": false
          }
        },
        "gather": {
          "logged": 1663205284042
        }
      }
    },
    {
      "cell_type": "code",
      "source": [
        "stats.rankdata(score_hf_mean,method = 'max')[6800]"
      ],
      "outputs": [
        {
          "output_type": "execute_result",
          "execution_count": 91,
          "data": {
            "text/plain": "17258"
          },
          "metadata": {}
        }
      ],
      "execution_count": 91,
      "metadata": {
        "jupyter": {
          "source_hidden": false,
          "outputs_hidden": false
        },
        "nteract": {
          "transient": {
            "deleting": false
          }
        },
        "gather": {
          "logged": 1662751355050
        }
      }
    },
    {
      "cell_type": "code",
      "source": [
        "np.set_printoptions(threshold=np.inf)"
      ],
      "outputs": [],
      "execution_count": 52,
      "metadata": {
        "jupyter": {
          "source_hidden": false,
          "outputs_hidden": false
        },
        "nteract": {
          "transient": {
            "deleting": false
          }
        },
        "gather": {
          "logged": 1662600396578
        }
      }
    },
    {
      "cell_type": "code",
      "source": [
        "np.argmax(score_hf_mean)"
      ],
      "outputs": [
        {
          "output_type": "execute_result",
          "execution_count": 63,
          "data": {
            "text/plain": "6800"
          },
          "metadata": {}
        }
      ],
      "execution_count": 63,
      "metadata": {
        "jupyter": {
          "source_hidden": false,
          "outputs_hidden": false
        },
        "nteract": {
          "transient": {
            "deleting": false
          }
        },
        "gather": {
          "logged": 1662600584777
        }
      }
    },
    {
      "cell_type": "code",
      "source": [
        "print(np.where(stats.rankdata(score_hf_mean,method = 'min') >= 17250))\n",
        "score_hf_mean[np.where(stats.rankdata(score_hf_mean,method = 'min') >= 17250)]\n"
      ],
      "outputs": [
        {
          "output_type": "stream",
          "name": "stdout",
          "text": "(array([ 2648,  6800,  6835,  7075, 10549, 11987, 12290, 13643, 17231]),)\n"
        },
        {
          "output_type": "execute_result",
          "execution_count": 69,
          "data": {
            "text/plain": "array([0.00768176, 0.11782207, 0.00083546, 0.00089923, 0.00210459,\n       0.02455676, 0.05382653, 0.02525829, 0.00096939])"
          },
          "metadata": {}
        }
      ],
      "execution_count": 69,
      "metadata": {
        "jupyter": {
          "source_hidden": false,
          "outputs_hidden": false
        },
        "nteract": {
          "transient": {
            "deleting": false
          }
        },
        "gather": {
          "logged": 1662600738236
        }
      }
    }
  ],
  "metadata": {
    "kernel_info": {
      "name": "python3"
    },
    "kernelspec": {
      "name": "python3",
      "language": "python",
      "display_name": "Python 3 (ipykernel)"
    },
    "language_info": {
      "name": "python",
      "version": "3.8.5",
      "mimetype": "text/x-python",
      "codemirror_mode": {
        "name": "ipython",
        "version": 3
      },
      "pygments_lexer": "ipython3",
      "nbconvert_exporter": "python",
      "file_extension": ".py"
    },
    "microsoft": {
      "host": {
        "AzureML": {
          "notebookHasBeenCompleted": true
        }
      }
    },
    "nteract": {
      "version": "nteract-front-end@1.0.0"
    }
  },
  "nbformat": 4,
  "nbformat_minor": 4
}
